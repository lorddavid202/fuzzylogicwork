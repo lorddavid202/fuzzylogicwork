{
 "cells": [
  {
   "cell_type": "code",
   "execution_count": 68,
   "id": "ba67cdb9",
   "metadata": {},
   "outputs": [],
   "source": [
    "import numpy as np\n",
    "import tensorflow as tf\n",
    "from sklearn.decomposition import PCA\n",
    "from sklearn.manifold import TSNE\n",
    "from sklearn.preprocessing import StandardScaler\n",
    "from sklearn.metrics import accuracy_score\n",
    "from sklearn.model_selection import train_test_split\n",
    "import skfuzzy as fuzz\n",
    "from skfuzzy import control as ctrl\n",
    "import matplotlib.pyplot as plt\n"
   ]
  },
  {
   "cell_type": "code",
   "execution_count": 69,
   "id": "8f753ab8",
   "metadata": {},
   "outputs": [],
   "source": [
    "np.random.seed(42)\n",
    "\n",
    "def load_and_preprocess_data():\n",
    "    (X_train, y_train), (X_test, y_test) = tf.keras.datasets.mnist.load_data()\n",
    "    X_train = X_train.astype('float32') / 255.0\n",
    "    X_test = X_test.astype('float32') / 255.0\n",
    "    X_train = X_train.reshape(-1, 28*28)\n",
    "    X_test = X_test.reshape(-1, 28*28)\n",
    "    y_train_binary = (y_train == 0).astype(int)\n",
    "    y_test_binary = (y_test == 0).astype(int)\n",
    "    scaler = StandardScaler()\n",
    "    X_train = scaler.fit_transform(X_train)\n",
    "    X_test = scaler.transform(X_test)\n",
    "    return X_train, y_train_binary, X_test, y_test_binary"
   ]
  },
  {
   "cell_type": "code",
   "execution_count": 70,
   "id": "8f552dd1",
   "metadata": {},
   "outputs": [],
   "source": [
    "def reduce_dimensionality(X_train, X_test, n_components=10):\n",
    "    pca = PCA(n_components=n_components)\n",
    "    X_train_reduced = pca.fit_transform(X_train)\n",
    "    X_test_reduced = pca.transform(X_test)\n",
    "    print(f\"PCA Explained Variance: {np.sum(pca.explained_variance_ratio_):.4f}\")\n",
    "    return X_train_reduced, X_test_reduced"
   ]
  },
  {
   "cell_type": "code",
   "execution_count": 71,
   "id": "285e6b93",
   "metadata": {},
   "outputs": [],
   "source": [
    "\n",
    "# ANFIS Implementation\n",
    "class ANFIS:\n",
    "    def __init__(self, n_inputs, n_rules):\n",
    "        self.n_inputs = n_inputs\n",
    "        self.n_rules = n_rules\n",
    "        self.params = self.initialize_parameters()\n",
    "\n",
    "    def initialize_parameters(self):\n",
    "        params = {\n",
    "            'mf_params': np.zeros((self.n_rules, self.n_inputs, 2)),\n",
    "            'consequent_params': np.random.randn(self.n_rules, 1) * 0.1\n",
    "        }\n",
    "        params['mf_params'][:, :, 0] = np.random.randn(self.n_rules, self.n_inputs) * 0.1\n",
    "        params['mf_params'][:, :, 1] = np.abs(np.random.randn(self.n_rules, self.n_inputs)) + 0.5\n",
    "        return params\n",
    "    \n",
    "    def gaussian_mf(self, x, params):\n",
    "        center, sigma = params[:, :, 0], np.abs(params[:, :, 1]) + 1e-8\n",
    "        memberships = np.exp(-((x[:, None, :] - center) ** 2) / (2 * sigma ** 2))\n",
    "        memberships = np.clip(memberships, 1e-8, 1.0)\n",
    "        return memberships\n",
    "    \n",
    "    def forward(self, X):\n",
    "        memberships = self.gaussian_mf(X, self.params['mf_params'])\n",
    "        firing_strengths = np.prod(memberships, axis=2)\n",
    "        firing_sum = np.sum(firing_strengths, axis=1, keepdims=True)\n",
    "        normalized_strengths = firing_strengths / (firing_sum + 1e-8)\n",
    "        consequent = np.dot(normalized_strengths, self.params['consequent_params'])\n",
    "        return consequent.squeeze()\n",
    "    \n",
    "    def train(self, X, y, epochs=50, lr=0.05):\n",
    "        for epoch in range(epochs):\n",
    "            output = self.forward(X)\n",
    "            loss = np.mean((output - y) ** 2)\n",
    "            grad_output = 2 * (output - y) / X.shape[0]\n",
    "            memberships = self.gaussian_mf(X, self.params['mf_params'])\n",
    "            firing_strengths = np.prod(memberships, axis=2)\n",
    "            firing_sum = np.sum(firing_strengths, axis=1, keepdims=True)\n",
    "            normalized_strengths = firing_strengths / (firing_sum + 1e-8)\n",
    "            grad_consequent = np.dot(normalized_strengths.T, grad_output[:, None])\n",
    "            self.params['consequent_params'] -= lr * grad_consequent\n",
    "            error = output - y\n",
    "            grad_mf_center = np.zeros_like(self.params['mf_params'][:, :, 0])\n",
    "            grad_mf_sigma = np.zeros_like(self.params['mf_params'][:, :, 1])\n",
    "            for r in range(self.n_rules):\n",
    "                for i in range(self.n_inputs):\n",
    "                    diff = X[:, i] - self.params['mf_params'][r, i, 0]\n",
    "                    sigma = np.abs(self.params['mf_params'][r, i, 1]) + 1e-8\n",
    "                    grad_mf_center[r, i] = np.mean(error * normalized_strengths[:, r] * diff / (sigma ** 2))\n",
    "                    grad_mf_sigma[r, i] = np.mean(error * normalized_strengths[:, r] * (diff ** 2) / (sigma ** 3))\n",
    "            self.params['mf_params'][:, :, 0] -= lr * grad_mf_center * 0.1\n",
    "            self.params['mf_params'][:, :, 1] -= lr * grad_mf_sigma * 0.1\n",
    "            if epoch % 10 == 0:\n",
    "                print(f\"Epoch {epoch}, Loss: {loss:.4f}, Accuracy: {accuracy_score(y, np.round(output)):.4f}\")"
   ]
  },
  {
   "cell_type": "code",
   "execution_count": 72,
   "id": "4add8c3d",
   "metadata": {},
   "outputs": [
    {
     "name": "stdout",
     "output_type": "stream",
     "text": [
      "PCA Explained Variance: 0.2767\n",
      "Epoch 0, Loss: 0.0986, Accuracy: 0.9013\n",
      "Epoch 10, Loss: 0.0985, Accuracy: 0.9013\n",
      "Epoch 20, Loss: 0.0985, Accuracy: 0.9013\n",
      "Epoch 30, Loss: 0.0985, Accuracy: 0.9013\n",
      "Epoch 40, Loss: 0.0985, Accuracy: 0.9013\n",
      "Epoch 50, Loss: 0.0985, Accuracy: 0.9013\n",
      "Epoch 60, Loss: 0.0985, Accuracy: 0.9013\n",
      "Epoch 70, Loss: 0.0985, Accuracy: 0.9013\n",
      "Epoch 80, Loss: 0.0985, Accuracy: 0.9013\n",
      "Epoch 90, Loss: 0.0985, Accuracy: 0.9013\n",
      "Test Accuracy (Binary - '0' vs not '0'): 0.9020\n"
     ]
    }
   ],
   "source": [
    "X_train, y_train, X_test, y_test = load_and_preprocess_data()\n",
    "X_train_reduced, X_test_reduced = reduce_dimensionality(X_train, X_test, n_components=10)\n",
    "anfis_model = ANFIS(n_inputs=10, n_rules=5)\n",
    "anfis_model.train(X_train_reduced, y_train, epochs=100, lr=0.1)\n",
    "y_pred = np.round(anfis_model.forward(X_test_reduced))\n",
    "test_accuracy = accuracy_score(y_test, y_pred)\n",
    "print(f\"Test Accuracy (Binary - '0' vs not '0'): {test_accuracy:.4f}\")\n",
    "plt.figure(figsize=(8, 6))\n",
    "plt.scatter(X_test_reduced[:, 0], X_test_reduced[:, 1], c=y_pred, cmap='coolwarm', alpha=0.6)\n",
    "plt.title(\"ANFIS Predicted Labels (PCA Reduced to 2D)\")\n",
    "plt.xlabel(\"PC1\")\n",
    "plt.ylabel(\"PC2\")\n",
    "plt.colorbar(label='Predicted Label')\n",
    "plt.savefig(\"anfis_mnist_binary_classification.png\")\n",
    "plt.close()\n"
   ]
  }
 ],
 "metadata": {
  "kernelspec": {
   "display_name": "Python 3",
   "language": "python",
   "name": "python3"
  },
  "language_info": {
   "codemirror_mode": {
    "name": "ipython",
    "version": 3
   },
   "file_extension": ".py",
   "mimetype": "text/x-python",
   "name": "python",
   "nbconvert_exporter": "python",
   "pygments_lexer": "ipython3",
   "version": "3.12.9"
  }
 },
 "nbformat": 4,
 "nbformat_minor": 5
}
